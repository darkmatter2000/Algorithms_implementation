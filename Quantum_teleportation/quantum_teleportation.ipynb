{
 "cells": [
  {
   "cell_type": "markdown",
   "id": "6aba1b47",
   "metadata": {},
   "source": [
    "## Quantum Teleportation\n",
    "This algorithm performs the quantum teleportation of a quantum state from one person, Alice, to another, Bob. Here is the general scheme:\n",
    "\n",
    "1. We start with three qubits:\n",
    "\n",
    "    * One initialized in the quantum state we want to teleport.\n",
    "\n",
    "    * Two others prepared in an entangled state shared between Alice and Bob.\n",
    "\n",
    "2. A CNOT gate is applied between the qubit to be teleported (as control) and Alice's entangled qubit (as target). Then, a Hadamard gate is applied to the qubit we want to teleport.\n",
    "\n",
    "3. The teleportation is completed by performing measurements on Alice’s two qubits (the one in the initial state and her half of the entangled pair). The result of these measurements is sent to Bob, who applies the appropriate quantum gates to his qubit in order to recover the original state.\n",
    "\n",
    "\n",
    "![Alt text](quantum_teleportation.png)\n"
   ]
  },
  {
   "cell_type": "code",
   "execution_count": 129,
   "id": "c901719b",
   "metadata": {},
   "outputs": [],
   "source": [
    "import numpy as np\n",
    "import matplotlib.pyplot as plt"
   ]
  },
  {
   "cell_type": "code",
   "execution_count": 130,
   "id": "579e09e0",
   "metadata": {},
   "outputs": [],
   "source": [
    "import cirq"
   ]
  },
  {
   "cell_type": "code",
   "execution_count": 147,
   "id": "f937f347",
   "metadata": {},
   "outputs": [
    {
     "name": "stdout",
     "output_type": "stream",
     "text": [
      "                                              ┌──┐\n",
      "Alice: ───────────────H───@───────────────X─────M────────────────\n",
      "                          │               │     ║\n",
      "Bob: ─────────────────────X───────────────┼─────╫────────X───Z───\n",
      "                                          │     ║        ║   ║\n",
      "state_to_teleport: ───────────X───Y^0.5───@────H╫────M───╫───╫───\n",
      "                                                ║    ║   ║   ║\n",
      "M_1: ═══════════════════════════════════════════╬════@═══^═══╬═══\n",
      "                                                ║            ║\n",
      "M_2: ═══════════════════════════════════════════@════════════^═══\n",
      "                                              └──┘\n",
      "Message Qubit State: [-1.  0.  0.]\n",
      "Teleported Bob's Qubit state: [-1.  0.  0.]\n"
     ]
    }
   ],
   "source": [
    "# les qubits\n",
    "state_to_teleport = cirq.NamedQubit('state_to_teleport')\n",
    "alice = cirq.NamedQubit('Alice')\n",
    "bob = cirq.NamedQubit('Bob')\n",
    "\n",
    "\n",
    "\n",
    "\n",
    "# I create the state that i want to teleport\n",
    "message = cirq.Circuit(\n",
    "    cirq.X(state_to_teleport) ** 1,\n",
    "    cirq.Y(state_to_teleport) ** 0.5, \n",
    ")\n",
    "\n",
    "\n",
    "teleport_circuit= cirq.Circuit(\n",
    "    # I create the entangled state between Alice and Bob\n",
    "    cirq.H(alice),\n",
    "    cirq.CNOT(alice, bob),\n",
    "\n",
    "    # message circuit\n",
    "    message,\n",
    "    \n",
    "    # teleportation protocol\n",
    "    cirq.CNOT(state_to_teleport, alice),\n",
    "    cirq.H(state_to_teleport),\n",
    "    cirq.measure(state_to_teleport ,  key='M_1'),\n",
    "    cirq.measure(alice , key='M_2'),\n",
    "\n",
    "    # I apply the correction to Bob's qubit based on the measurement results\n",
    "    cirq.X(bob).with_classical_controls('M_1'),\n",
    "    cirq.Z(bob).with_classical_controls('M_2'),\n",
    ")\n",
    "print(teleport_circuit)\n",
    "\n",
    "\n",
    "simulator = cirq.Simulator()\n",
    "\n",
    "state_vector_teleported = cirq.bloch_vector_from_state_vector(\n",
    "    simulator.simulate(message).final_state_vector, 0\n",
    ")\n",
    "teleport_bloch_vector = cirq.bloch_vector_from_state_vector(\n",
    "    simulator.simulate(teleport_circuit).final_state_vector, 1\n",
    ")\n",
    "\n",
    "print(f\"Message Qubit State: {state_vector_teleported}\")\n",
    "print(f\"Teleported Bob's Qubit state: {teleport_bloch_vector}\")\n",
    "\n"
   ]
  }
 ],
 "metadata": {
  "kernelspec": {
   "display_name": "cirq_env",
   "language": "python",
   "name": "python3"
  },
  "language_info": {
   "codemirror_mode": {
    "name": "ipython",
    "version": 3
   },
   "file_extension": ".py",
   "mimetype": "text/x-python",
   "name": "python",
   "nbconvert_exporter": "python",
   "pygments_lexer": "ipython3",
   "version": "3.12.4"
  }
 },
 "nbformat": 4,
 "nbformat_minor": 5
}
